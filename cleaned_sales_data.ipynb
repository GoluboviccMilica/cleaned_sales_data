{
 "cells": [
  {
   "cell_type": "code",
   "execution_count": 1,
   "id": "f30e3531-a96a-48a7-ac02-66d6c0cd525f",
   "metadata": {},
   "outputs": [
    {
     "data": {
      "text/html": [
       "<div>\n",
       "<style scoped>\n",
       "    .dataframe tbody tr th:only-of-type {\n",
       "        vertical-align: middle;\n",
       "    }\n",
       "\n",
       "    .dataframe tbody tr th {\n",
       "        vertical-align: top;\n",
       "    }\n",
       "\n",
       "    .dataframe thead th {\n",
       "        text-align: right;\n",
       "    }\n",
       "</style>\n",
       "<table border=\"1\" class=\"dataframe\">\n",
       "  <thead>\n",
       "    <tr style=\"text-align: right;\">\n",
       "      <th></th>\n",
       "      <th>Customer Name</th>\n",
       "      <th>Product</th>\n",
       "      <th>Region</th>\n",
       "      <th>Units Sold</th>\n",
       "      <th>Unit Price</th>\n",
       "      <th>Date of Sale</th>\n",
       "    </tr>\n",
       "  </thead>\n",
       "  <tbody>\n",
       "    <tr>\n",
       "      <th>0</th>\n",
       "      <td>milica golubovic</td>\n",
       "      <td>Laptop</td>\n",
       "      <td>north</td>\n",
       "      <td>10.0</td>\n",
       "      <td>1000.0</td>\n",
       "      <td>2023-01-15</td>\n",
       "    </tr>\n",
       "    <tr>\n",
       "      <th>1</th>\n",
       "      <td>John DOE</td>\n",
       "      <td>Tablet</td>\n",
       "      <td>SOUTH</td>\n",
       "      <td>NaN</td>\n",
       "      <td>500.0</td>\n",
       "      <td>2023/02/20</td>\n",
       "    </tr>\n",
       "    <tr>\n",
       "      <th>2</th>\n",
       "      <td>ana MARIC</td>\n",
       "      <td>Smartphone</td>\n",
       "      <td>East</td>\n",
       "      <td>25.0</td>\n",
       "      <td>700.0</td>\n",
       "      <td>15-03-2023</td>\n",
       "    </tr>\n",
       "    <tr>\n",
       "      <th>3</th>\n",
       "      <td>Milica Golubovic</td>\n",
       "      <td>Laptop</td>\n",
       "      <td>north</td>\n",
       "      <td>10.0</td>\n",
       "      <td>1000.0</td>\n",
       "      <td>2023-01-15</td>\n",
       "    </tr>\n",
       "    <tr>\n",
       "      <th>4</th>\n",
       "      <td>JOHN doe</td>\n",
       "      <td>Tablet</td>\n",
       "      <td>south</td>\n",
       "      <td>15.0</td>\n",
       "      <td>NaN</td>\n",
       "      <td>2023/02/20</td>\n",
       "    </tr>\n",
       "  </tbody>\n",
       "</table>\n",
       "</div>"
      ],
      "text/plain": [
       "        Customer Name     Product Region  Units Sold  Unit Price Date of Sale\n",
       "0   milica golubovic       Laptop  north        10.0      1000.0   2023-01-15\n",
       "1            John DOE      Tablet  SOUTH         NaN       500.0   2023/02/20\n",
       "2           ana MARIC  Smartphone   East        25.0       700.0   15-03-2023\n",
       "3    Milica Golubovic      Laptop  north        10.0      1000.0   2023-01-15\n",
       "4            JOHN doe      Tablet  south        15.0         NaN   2023/02/20"
      ]
     },
     "execution_count": 1,
     "metadata": {},
     "output_type": "execute_result"
    }
   ],
   "source": [
    "import pandas as pd\n",
    "\n",
    "# Load the messy data\n",
    "df = pd.read_excel(\"messy_sales_data.xlsx\")\n",
    "\n",
    "# Show the first few rows\n",
    "df.head()\n"
   ]
  },
  {
   "cell_type": "code",
   "execution_count": 2,
   "id": "6e0989ed-edf4-4d17-b9a8-4744b2bf43ec",
   "metadata": {},
   "outputs": [],
   "source": [
    "# Strip whitespace and fix capitalization in customer names\n",
    "df[\"Customer Name\"] = df[\"Customer Name\"].str.strip().str.title()\n"
   ]
  },
  {
   "cell_type": "code",
   "execution_count": 3,
   "id": "6deca349-c75f-4711-9e90-11995dbac01f",
   "metadata": {},
   "outputs": [],
   "source": [
    "df[\"Region\"] = df[\"Region\"].str.strip().str.title()\n"
   ]
  },
  {
   "cell_type": "code",
   "execution_count": 4,
   "id": "f9754e89-981f-4764-aef0-a7d8974a6f4e",
   "metadata": {},
   "outputs": [
    {
     "data": {
      "text/plain": [
       "np.int64(2)"
      ]
     },
     "execution_count": 4,
     "metadata": {},
     "output_type": "execute_result"
    }
   ],
   "source": [
    "df.duplicated().sum()\n"
   ]
  },
  {
   "cell_type": "code",
   "execution_count": 5,
   "id": "e5a7a745-ce51-4c88-a46b-d9ecc5d5d5b0",
   "metadata": {},
   "outputs": [],
   "source": [
    "df.drop_duplicates(inplace=True)\n"
   ]
  },
  {
   "cell_type": "code",
   "execution_count": 6,
   "id": "63e26727-9adf-4aaf-bd48-75ee173b0d55",
   "metadata": {},
   "outputs": [
    {
     "data": {
      "text/plain": [
       "Customer Name    1\n",
       "Product          0\n",
       "Region           0\n",
       "Units Sold       1\n",
       "Unit Price       1\n",
       "Date of Sale     0\n",
       "dtype: int64"
      ]
     },
     "execution_count": 6,
     "metadata": {},
     "output_type": "execute_result"
    }
   ],
   "source": [
    "df.isnull().sum()\n"
   ]
  },
  {
   "cell_type": "code",
   "execution_count": 8,
   "id": "a46af7fb-1510-436c-8006-5c58ca4fd6ef",
   "metadata": {},
   "outputs": [],
   "source": [
    "df[\"Units Sold\"] = df[\"Units Sold\"].fillna(0)\n",
    "df[\"Unit Price\"] = df[\"Unit Price\"].fillna(df[\"Unit Price\"].median())\n"
   ]
  },
  {
   "cell_type": "code",
   "execution_count": 9,
   "id": "58ac40ce-8a8a-4e5e-bb83-24366a3191e0",
   "metadata": {},
   "outputs": [],
   "source": [
    "df[\"Date of Sale\"] = pd.to_datetime(df[\"Date of Sale\"], errors=\"coerce\")\n"
   ]
  },
  {
   "cell_type": "code",
   "execution_count": 10,
   "id": "a3d4f97b-891e-4a41-bdf7-937779e15e16",
   "metadata": {},
   "outputs": [],
   "source": [
    "df[\"Total Sales\"] = df[\"Units Sold\"] * df[\"Unit Price\"]\n"
   ]
  },
  {
   "cell_type": "code",
   "execution_count": 11,
   "id": "a733eb4a-1007-43b7-89de-dff62a44edf6",
   "metadata": {},
   "outputs": [
    {
     "name": "stdout",
     "output_type": "stream",
     "text": [
      "<class 'pandas.core.frame.DataFrame'>\n",
      "Index: 5 entries, 0 to 5\n",
      "Data columns (total 7 columns):\n",
      " #   Column         Non-Null Count  Dtype         \n",
      "---  ------         --------------  -----         \n",
      " 0   Customer Name  4 non-null      object        \n",
      " 1   Product        5 non-null      object        \n",
      " 2   Region         5 non-null      object        \n",
      " 3   Units Sold     5 non-null      float64       \n",
      " 4   Unit Price     5 non-null      float64       \n",
      " 5   Date of Sale   1 non-null      datetime64[ns]\n",
      " 6   Total Sales    5 non-null      float64       \n",
      "dtypes: datetime64[ns](1), float64(3), object(3)\n",
      "memory usage: 320.0+ bytes\n"
     ]
    },
    {
     "data": {
      "text/html": [
       "<div>\n",
       "<style scoped>\n",
       "    .dataframe tbody tr th:only-of-type {\n",
       "        vertical-align: middle;\n",
       "    }\n",
       "\n",
       "    .dataframe tbody tr th {\n",
       "        vertical-align: top;\n",
       "    }\n",
       "\n",
       "    .dataframe thead th {\n",
       "        text-align: right;\n",
       "    }\n",
       "</style>\n",
       "<table border=\"1\" class=\"dataframe\">\n",
       "  <thead>\n",
       "    <tr style=\"text-align: right;\">\n",
       "      <th></th>\n",
       "      <th>Customer Name</th>\n",
       "      <th>Product</th>\n",
       "      <th>Region</th>\n",
       "      <th>Units Sold</th>\n",
       "      <th>Unit Price</th>\n",
       "      <th>Date of Sale</th>\n",
       "      <th>Total Sales</th>\n",
       "    </tr>\n",
       "  </thead>\n",
       "  <tbody>\n",
       "    <tr>\n",
       "      <th>0</th>\n",
       "      <td>Milica Golubovic</td>\n",
       "      <td>Laptop</td>\n",
       "      <td>North</td>\n",
       "      <td>10.0</td>\n",
       "      <td>1000.0</td>\n",
       "      <td>2023-01-15</td>\n",
       "      <td>10000.0</td>\n",
       "    </tr>\n",
       "    <tr>\n",
       "      <th>1</th>\n",
       "      <td>John Doe</td>\n",
       "      <td>Tablet</td>\n",
       "      <td>South</td>\n",
       "      <td>0.0</td>\n",
       "      <td>500.0</td>\n",
       "      <td>NaT</td>\n",
       "      <td>0.0</td>\n",
       "    </tr>\n",
       "    <tr>\n",
       "      <th>2</th>\n",
       "      <td>Ana Maric</td>\n",
       "      <td>Smartphone</td>\n",
       "      <td>East</td>\n",
       "      <td>25.0</td>\n",
       "      <td>700.0</td>\n",
       "      <td>NaT</td>\n",
       "      <td>17500.0</td>\n",
       "    </tr>\n",
       "    <tr>\n",
       "      <th>4</th>\n",
       "      <td>John Doe</td>\n",
       "      <td>Tablet</td>\n",
       "      <td>South</td>\n",
       "      <td>15.0</td>\n",
       "      <td>700.0</td>\n",
       "      <td>NaT</td>\n",
       "      <td>10500.0</td>\n",
       "    </tr>\n",
       "    <tr>\n",
       "      <th>5</th>\n",
       "      <td>NaN</td>\n",
       "      <td>Smartphone</td>\n",
       "      <td>East</td>\n",
       "      <td>20.0</td>\n",
       "      <td>700.0</td>\n",
       "      <td>NaT</td>\n",
       "      <td>14000.0</td>\n",
       "    </tr>\n",
       "  </tbody>\n",
       "</table>\n",
       "</div>"
      ],
      "text/plain": [
       "      Customer Name     Product Region  Units Sold  Unit Price Date of Sale  \\\n",
       "0  Milica Golubovic      Laptop  North        10.0      1000.0   2023-01-15   \n",
       "1          John Doe      Tablet  South         0.0       500.0          NaT   \n",
       "2         Ana Maric  Smartphone   East        25.0       700.0          NaT   \n",
       "4          John Doe      Tablet  South        15.0       700.0          NaT   \n",
       "5               NaN  Smartphone   East        20.0       700.0          NaT   \n",
       "\n",
       "   Total Sales  \n",
       "0      10000.0  \n",
       "1          0.0  \n",
       "2      17500.0  \n",
       "4      10500.0  \n",
       "5      14000.0  "
      ]
     },
     "execution_count": 11,
     "metadata": {},
     "output_type": "execute_result"
    }
   ],
   "source": [
    "df.info()\n",
    "df.head()\n"
   ]
  },
  {
   "cell_type": "code",
   "execution_count": 12,
   "id": "16d5b8f4-ab23-4c2d-b6f5-62c62321a0a8",
   "metadata": {},
   "outputs": [],
   "source": [
    "df.to_excel(\"cleaned_sales_data.xlsx\", index=False)\n"
   ]
  }
 ],
 "metadata": {
  "kernelspec": {
   "display_name": "Python 3 (ipykernel)",
   "language": "python",
   "name": "python3"
  },
  "language_info": {
   "codemirror_mode": {
    "name": "ipython",
    "version": 3
   },
   "file_extension": ".py",
   "mimetype": "text/x-python",
   "name": "python",
   "nbconvert_exporter": "python",
   "pygments_lexer": "ipython3",
   "version": "3.13.2"
  }
 },
 "nbformat": 4,
 "nbformat_minor": 5
}
